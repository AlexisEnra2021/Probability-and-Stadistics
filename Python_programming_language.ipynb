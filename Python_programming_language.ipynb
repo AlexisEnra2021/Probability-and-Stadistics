{
  "nbformat": 4,
  "nbformat_minor": 0,
  "metadata": {
    "colab": {
      "name": "Python programming language.ipynb",
      "provenance": [],
      "collapsed_sections": []
    },
    "kernelspec": {
      "name": "python3",
      "display_name": "Python 3"
    },
    "language_info": {
      "name": "python"
    }
  },
  "cells": [
    {
      "cell_type": "markdown",
      "metadata": {
        "id": "9i6aoHczECYE"
      },
      "source": [
        "#Python programming language\n",
        "##What is Python?\n",
        "Python is a computer programming language often used to build websites and software, automate tasks, and conduct data analysis. Python is a general purpose language, meaning it can be used to create a variety of different programs and isn’t specialized for any specific problems. This versatility, along with its beginner-friendliness, has made it one of the most-used programming languages today.\n",
        "\n",
        "Python is an interpreted high-level general-purpose programming language. Its design philosophy emphasizes code readability with its use of significant indentation. Its language constructs as well as its object-oriented approach aim to help programmers write clear, logical code for small and large-scale projects.\n",
        "\n",
        "Python is dynamically-typed and garbage-collected. It supports multiple programming paradigms, including structured (particularly, procedural), object-oriented and functional programming. It is often described as a \"batteries included\" language due to its comprehensive standard library."
      ]
    },
    {
      "cell_type": "markdown",
      "metadata": {
        "id": "6AwqJZGDU1SB"
      },
      "source": [
        "##History of Python\n",
        "The history of the Python programming language dates back to the late 80s and early 90s, its implementation began in December 1989 when at Christmas Guido Van Rossum who worked at the (CWI) (an official Dutch research center which, among other things, currently houses the central office of the W3C) decided to start the project as a hobby, continuing the ABC programming language of which he had been part of the development team at the CWI, said language focused on being easy to use. use and learn while maintaining power in its performance but the hardware available at the time of its creation made it difficult to use and the project did not transcend as expected. Van Rossum is therefore the main author of Python and continues to play a central role in deciding the direction of the language, in the Python community he is known as Benevolent Dictator for Life (BDFL). The name \"Python\" is given by Van Rossum's fondness for the Monty Python group.\n",
        "\n",
        "The Python programming language was originally developed for the Amoeba operating system."
      ]
    },
    {
      "cell_type": "markdown",
      "metadata": {
        "id": "brE20K2dGN6l"
      },
      "source": [
        "Guido Van Rossum published the first version of Python code (version 0.9.0) at alt.sources in February 1991. This release included already exception handling, functions, and the core data types of list, dict, str and others. It was also object oriented and had a module system.\n",
        "\n",
        "Python version 1.0 was released in January 1994. The major new features included in this release were the functional programming tools lambda, map, filter and reduce, which Guido Van Rossum never liked.\n",
        "\n",
        "Six and a half years later in October 2000, Python 2.0 was introduced. This release included list comprehensions, a full garbage collector and it was supporting unicode.\n",
        "\n",
        "Python flourished for another 8 years in the versions 2.x before the next major release as Python 3.0 (also known as \"Python 3000\" and \"Py3K\") was released. Python 3 is not backwards compatible with Python 2.x. The emphasis in Python 3 had been on the removal of duplicate programming constructs and modules, thus fulfilling or coming close to fulfilling the 13th law of the Zen of Python: \"There should be one -- and preferably only one -- obvious way to do it.\""
      ]
    },
    {
      "cell_type": "markdown",
      "metadata": {
        "id": "TsksPUqoZIH8"
      },
      "source": [
        "##The Zen of Python\n",
        "The Zen of Python is a collection of 20 software principles that influence the design of the Python Programming Language, of which 19 were written by Tim Peters in June 1999. The text is released as the public domain.\n",
        "*  Beautiful is better than ugly.\n",
        "*  Explicit is better than implicit.\n",
        "*  Simple is better than complex.\n",
        "*  Complex is better than complicated.\n",
        "*  Flat is better than nested.\n",
        "*  Sparse is better than dense.\n",
        "*  Readability counts.\n",
        "*  Special cases aren't special enough to break the rules.\n",
        "*  Although practicality beats purity.\n",
        "*  Errors should never pass silently.\n",
        "*  Unless explicitly silenced.\n",
        "*  In the face of ambiguity, refuse the temptation to guess.\n",
        "*  There should be one -- and preferably only one -- obvious way to do it.\n",
        "*  Although that way may not be obvious at first unless you're Dutch.\n",
        "*  Now is better than never.\n",
        "*  Although never is often better than *right* now.\n",
        "*   If the implementation is hard to explain, it's a bad idea.\n",
        "*  If the implementation is easy to explain, it may be a good idea.\n",
        "*   Namespaces are one honking great idea -- let's do more of those! \n",
        " \n",
        "\n",
        "\n",
        "\n",
        "\n",
        "\n",
        "\n",
        "\n",
        "\n",
        "\n",
        "\n",
        "\n",
        "\n",
        "\n",
        "\n",
        "\n",
        "\n"
      ]
    },
    {
      "cell_type": "markdown",
      "metadata": {
        "id": "BgURf-sSlIVI"
      },
      "source": [
        "##Why is it called Python?\n",
        "There is a fact behind choosing the name Python. Guido van Rossum was reading the script of a popular BBC comedy series \"Monty Python's Flying Circus\". It was late on-air 1970s.\n",
        "\n",
        "Van Rossum wanted to select a name which unique, sort, and little-bit mysterious. So he decided to select naming Python after the \"Monty Python's Flying Circus\" for their newly created programming language.\n",
        "\n",
        "The comedy series was creative and well random. It talks about everything. Thus it is slow and unpredictable, which made it very interesting.\n",
        "\n",
        "Python is also versatile and widely used in every technical field, such as Machine Learning, Artificial Intelligence, Web Development, Mobile Application, Desktop Application, Scientific Calculation, etc."
      ]
    },
    {
      "cell_type": "markdown",
      "metadata": {
        "id": "QFeT_rYBcbn-"
      },
      "source": [
        "![Python](https://www.icog.es/cursos/wp-content/uploads/2020/09/phyton.png)"
      ]
    },
    {
      "cell_type": "markdown",
      "metadata": {
        "id": "Vv8IYLgLt_P9"
      },
      "source": [
        "##Popularity of Python\n",
        "Some sources say that Python is the third-most popular programming language in the world, while others claim it’s the fifth.\n",
        "\n",
        "Either way, it still occupies a high rank in the top ten of the   **TIOBE** Programming Community and **PYPL** PopularitY of Programming Language Indexes.\n",
        "![Python](https://pythoninstitute.org/wp-content/uploads/2019/11/tiobe_Nov_2019.png)\n",
        "![Python](https://pythoninstitute.org/wp-content/uploads/2019/11/pypl_nov_2019.png)\n",
        "\n"
      ]
    },
    {
      "cell_type": "markdown",
      "metadata": {
        "id": "o1SSuFiBjAoK"
      },
      "source": [
        "#Basic Python Functions"
      ]
    },
    {
      "cell_type": "markdown",
      "metadata": {
        "id": "DrK8UPjw6RaZ"
      },
      "source": [
        "##Print Statement\n",
        "We use print () function in python to show a message in the screen\n",
        "\n",
        "for example:"
      ]
    },
    {
      "cell_type": "code",
      "metadata": {
        "colab": {
          "base_uri": "https://localhost:8080/"
        },
        "id": "FKrm4DsO-rav",
        "outputId": "7d63dd48-e823-4547-cbe4-61d6c383eb7b"
      },
      "source": [
        "print(\"Hello my name is Alexis\")"
      ],
      "execution_count": 42,
      "outputs": [
        {
          "output_type": "stream",
          "name": "stdout",
          "text": [
            "Hello my name is Alexis\n"
          ]
        }
      ]
    },
    {
      "cell_type": "markdown",
      "metadata": {
        "id": "crqfOSI4ABkS"
      },
      "source": [
        "##Print function to solve a operation\n",
        "We can solve operations with print function in Python\n",
        "\n",
        "for example:"
      ]
    },
    {
      "cell_type": "code",
      "metadata": {
        "colab": {
          "base_uri": "https://localhost:8080/"
        },
        "id": "Qf9vKPBTBiM3",
        "outputId": "1aa156dd-7fe7-43bf-ebb1-f335a4d40a6d"
      },
      "source": [
        "print(4*21)"
      ],
      "execution_count": 43,
      "outputs": [
        {
          "output_type": "stream",
          "name": "stdout",
          "text": [
            "84\n"
          ]
        }
      ]
    },
    {
      "cell_type": "markdown",
      "metadata": {
        "id": "ykRKp9TyCgWy"
      },
      "source": [
        "##Print a variable\n",
        "When you don't use quotes in a print statement to display your message, Python will take it as a variable\n",
        "\n",
        "for example:"
      ]
    },
    {
      "cell_type": "code",
      "metadata": {
        "colab": {
          "base_uri": "https://localhost:8080/"
        },
        "id": "a2-6ZCwJD1HW",
        "outputId": "6e46b8c5-0f04-4dd6-ea90-bbeb9e328f23"
      },
      "source": [
        "X=\"I am a student for UT Altamira\"\n",
        "print(X)"
      ],
      "execution_count": 44,
      "outputs": [
        {
          "output_type": "stream",
          "name": "stdout",
          "text": [
            "I am a student for UT Altamira\n"
          ]
        }
      ]
    },
    {
      "cell_type": "markdown",
      "metadata": {
        "id": "zLFAAJGKF1k7"
      },
      "source": [
        "##Print a variable and text in the same print statement\n",
        "in addition to saving a variable in the print statement we can use the same print statement to ad a text\n",
        "\n",
        "for example:"
      ]
    },
    {
      "cell_type": "code",
      "metadata": {
        "colab": {
          "base_uri": "https://localhost:8080/"
        },
        "id": "F5D-u5kgGfLd",
        "outputId": "9cdeb743-5997-4e97-c992-469bbb9e088c"
      },
      "source": [
        "Age=\"I am 19 years old\"\n",
        "print(f\"How old are you? {Age}\")"
      ],
      "execution_count": 45,
      "outputs": [
        {
          "output_type": "stream",
          "name": "stdout",
          "text": [
            "How old are you? I am 19 years old\n"
          ]
        }
      ]
    },
    {
      "cell_type": "markdown",
      "metadata": {
        "id": "I3nMa5MOI7CR"
      },
      "source": [
        "##Print two outputs in the same line with end\n",
        "We use **end=** to let Python know we want to continue writing in the same line.\n",
        "\n",
        "for example:\n"
      ]
    },
    {
      "cell_type": "code",
      "metadata": {
        "colab": {
          "base_uri": "https://localhost:8080/"
        },
        "id": "5h3z6_l6K4TQ",
        "outputId": "587263d4-f5ff-4d9d-db0d-225d5021dfe6"
      },
      "source": [
        "print(\"Hello my name is \", end='')\n",
        "print(\"Alexis\")"
      ],
      "execution_count": 46,
      "outputs": [
        {
          "output_type": "stream",
          "name": "stdout",
          "text": [
            "Hello my name is Alexis\n"
          ]
        }
      ]
    },
    {
      "cell_type": "markdown",
      "metadata": {
        "id": "oEIY2_eOguN8"
      },
      "source": [
        "# If-else statement"
      ]
    },
    {
      "cell_type": "markdown",
      "metadata": {
        "id": "jtWAk_ovMHHt"
      },
      "source": [
        "## If statement\n",
        "If statements are control flow statements which helps us to run a particular code only when a certain condition is satisfied.\n",
        "\n",
        "For example:"
      ]
    },
    {
      "cell_type": "code",
      "metadata": {
        "colab": {
          "base_uri": "https://localhost:8080/"
        },
        "id": "cvWKv_XuQqqL",
        "outputId": "f81d620b-c877-48ef-a0fc-8003e501d78e"
      },
      "source": [
        "x= 5\n",
        "y= 10\n",
        "if x < y:\n",
        "  print(f\"{x} is lower than {y}\")\n",
        "\n",
        "  x= 5\n",
        "  y= 10\n",
        "  if y > x:\n",
        "    print(f\"{y} is greater than {x}\")\n",
        "\n"
      ],
      "execution_count": 57,
      "outputs": [
        {
          "output_type": "stream",
          "name": "stdout",
          "text": [
            "5 is lower than 10\n",
            "10 is greater than 5\n"
          ]
        }
      ]
    },
    {
      "cell_type": "markdown",
      "metadata": {
        "id": "nX6ZmV3sZSmO"
      },
      "source": [
        "## If-else statement\n",
        "The If-else statement evaluates whether an expression is true or false. if true, the if statement executes, otherwise, if false, the else statement executes.\n",
        "\n",
        "for example:"
      ]
    },
    {
      "cell_type": "code",
      "metadata": {
        "colab": {
          "base_uri": "https://localhost:8080/"
        },
        "id": "eNTT2WwTZqdc",
        "outputId": "47bb0d31-9519-4573-806d-e866d27319ed"
      },
      "source": [
        "x= 20\n",
        "y= 10\n",
        "if x < y:\n",
        "  print(f\"{x} is lower than {y}\")\n",
        "else:\n",
        "    print(f\"{x} is greater than {y}\")"
      ],
      "execution_count": 60,
      "outputs": [
        {
          "output_type": "stream",
          "name": "stdout",
          "text": [
            "20 is greater than 10\n"
          ]
        }
      ]
    },
    {
      "cell_type": "markdown",
      "metadata": {
        "id": "duS2nm6CbHjc"
      },
      "source": [
        "##Elif statement\n",
        "The elif statement allows you to check multiple expressions for TRUE and execute a block of code as soon as one of the conditions evaluates to TRUE.\n",
        "\n",
        "for example:"
      ]
    },
    {
      "cell_type": "code",
      "metadata": {
        "colab": {
          "base_uri": "https://localhost:8080/"
        },
        "id": "_i4UWEhUbQfL",
        "outputId": "75334b8d-9427-4cb7-def9-bbcaa44f5b27"
      },
      "source": [
        "a= 5.10\n",
        "b= 10.20\n",
        "c= 15.30\n",
        "if a < b and a < c :\n",
        "    print(f\"{a} is the lowest number of the three numbers\")\n",
        "elif c > b and a < c :\n",
        "    print(f\"{c} is the biggest number of the three numbers\")\n",
        "else: \n",
        "    print(f\"{b} is the medium number of the three numbers\")\n"
      ],
      "execution_count": 72,
      "outputs": [
        {
          "output_type": "stream",
          "name": "stdout",
          "text": [
            "5.1 is the lowest number of the three numbers\n"
          ]
        }
      ]
    },
    {
      "cell_type": "markdown",
      "metadata": {
        "id": "rvR_0piEjLF7"
      },
      "source": [
        "#Loops"
      ]
    },
    {
      "cell_type": "markdown",
      "metadata": {
        "id": "hUdcVXDdjR03"
      },
      "source": [
        "##For loop\n",
        "The for loop in Python is used to iterate over a sequence (list, tuple, string) or other iterable objects. Iterating over a sequence is called traversal.\n",
        "\n",
        "for example:"
      ]
    },
    {
      "cell_type": "code",
      "metadata": {
        "colab": {
          "base_uri": "https://localhost:8080/"
        },
        "id": "iJ95r-42nllo",
        "outputId": "9b247879-a66a-4f81-95b3-0010c86a6537"
      },
      "source": [
        "for x in range(0,10): \n",
        "  print(x)"
      ],
      "execution_count": 131,
      "outputs": [
        {
          "output_type": "stream",
          "name": "stdout",
          "text": [
            "0\n",
            "1\n",
            "2\n",
            "3\n",
            "4\n",
            "5\n",
            "6\n",
            "7\n",
            "8\n",
            "9\n"
          ]
        }
      ]
    },
    {
      "cell_type": "markdown",
      "metadata": {
        "id": "241Ua_jxpOyK"
      },
      "source": [
        "We can also do operations with for loop\n",
        "\n",
        "for example: "
      ]
    },
    {
      "cell_type": "code",
      "metadata": {
        "colab": {
          "base_uri": "https://localhost:8080/"
        },
        "id": "Jm4mNJgVpaqL",
        "outputId": "342877fb-17fa-4d8a-e187-0f78ba6d3907"
      },
      "source": [
        "num = [2,4,6,8,10,12,14,16]\n",
        "z = 0\n",
        "for i in num:\n",
        "    z += i\n",
        "print(z)"
      ],
      "execution_count": 116,
      "outputs": [
        {
          "output_type": "stream",
          "name": "stdout",
          "text": [
            "72\n"
          ]
        }
      ]
    },
    {
      "cell_type": "markdown",
      "metadata": {
        "id": "KiX4Wy4zwqdC"
      },
      "source": [
        "## While loop\n",
        "A while loop is a control flow statement which allows code to be executed repeatedly, depending on whether a condition is satisfied or not. As long as some condition is true, 'while' repeats everything inside the loop block. It stops executing the block if and only if the condition fails.\n",
        "\n",
        "for example:"
      ]
    },
    {
      "cell_type": "code",
      "metadata": {
        "colab": {
          "base_uri": "https://localhost:8080/"
        },
        "id": "X1uftVUUxsbR",
        "outputId": "6d3ef039-7542-434d-ee96-d2cec9109543"
      },
      "source": [
        "i = 0\n",
        "while (i < 10):\n",
        "    i = i + 1\n",
        "    print(\"UT Altamira\")\n"
      ],
      "execution_count": 130,
      "outputs": [
        {
          "output_type": "stream",
          "name": "stdout",
          "text": [
            "UT Altamira\n",
            "UT Altamira\n",
            "UT Altamira\n",
            "UT Altamira\n",
            "UT Altamira\n",
            "UT Altamira\n",
            "UT Altamira\n",
            "UT Altamira\n",
            "UT Altamira\n",
            "UT Altamira\n"
          ]
        }
      ]
    }
  ]
}